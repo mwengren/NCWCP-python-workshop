{
 "cells": [
  {
   "cell_type": "markdown",
   "metadata": {},
   "source": [
    "# Getting Started with Python for Earth Sciences: Reading and visualizing data\n",
    "\n",
    "## Topics covered \n",
    "* <b> Pandas     </b>: Read and manipulate tabular data from .txt and .csv files\n",
    "* <b> Netcdf4   </b>: Read and manipulate netcdf data\n",
    "* <b> matplotlib </b>: Creating and annotating basic line plots, subplots and saving them.\n",
    "---\n",
    "\n",
    "### Pandas\n",
    "* A library that helps encapsulate data\n",
    "* Comparable to data frames in R, structures in IDL, namespaces in C++ and modern Fortran\n",
    "\n",
    "#### Dataframes\n",
    "* The primary pandas data structure.\n",
    "* Two-dimensional size-mutable, potentially heterogeneous tabular data structure with labeled axes (rows and columns).\n",
    "\n",
    "##### Pros:\n",
    "\n",
    "   * You can name columns and refence by labels instead of indices like in numpy arrays\n",
    "   * This also makes performing group operations easier and more readable\n",
    "   \n",
    "##### Cons:\n",
    "\n",
    "   * Pandas is a wrapper for NumPy, so there is some efficiency overhead\n",
    "   * NumPy arrays are better for referencing datasets > 2D\n",
    "---\n",
    "## Reading ASCII Data\n",
    "\n",
    "### Case Study:  2018 California Camp Fire from Space\n",
    "* A forest fire began on Nov 8, 2018 and burned for 17 days had burned over a 621 km${^2}$ area.\n",
    "* Caused by very low regional humidity due to strong gusting wind events and very dry surface\n",
    "* The smoke from the fire also had an impact on regional air quality.\n",
    "* We'll look at satellite observations from JPSS show the fire location and the impact of the California wildfires had on gases like CO, Ozone, and Aerosol Optical Depth (AOD)\n",
    "\n",
    "\n"
   ]
  },
  {
   "cell_type": "code",
   "execution_count": 78,
   "metadata": {},
   "outputs": [
    {
     "data": {
      "text/plain": [
       "['Latitude',\n",
       " 'Longitude',\n",
       " 'Time',\n",
       " 'H2O_MR_500mb',\n",
       " 'H2O_MR_850mb',\n",
       " 'CO_MR_500mb',\n",
       " 'CO_MR_850mb',\n",
       " 'O3_MR_500mb',\n",
       " 'O3_MR_850mb',\n",
       " 'CH4_MR_500mb',\n",
       " 'CH4_MR_850mb',\n",
       " 'N2O_MR_500mb',\n",
       " 'N2O_MR_850mb',\n",
       " 'CO2_500mb',\n",
       " 'CO2_850mb',\n",
       " 'datetime']"
      ]
     },
     "execution_count": 78,
     "metadata": {},
     "output_type": "execute_result"
    }
   ],
   "source": [
    "import pandas as pd # remember this creates an alias 'pd' for pandas\n",
    "fname = 'Data/campfire-gases-2018-11.csv' #Path relative to current \n",
    "gases = pd.read_csv(fname)\n",
    "list(gases)"
   ]
  },
  {
   "cell_type": "code",
   "execution_count": 19,
   "metadata": {},
   "outputs": [
    {
     "data": {
      "text/html": [
       "<div>\n",
       "<style scoped>\n",
       "    .dataframe tbody tr th:only-of-type {\n",
       "        vertical-align: middle;\n",
       "    }\n",
       "\n",
       "    .dataframe tbody tr th {\n",
       "        vertical-align: top;\n",
       "    }\n",
       "\n",
       "    .dataframe thead th {\n",
       "        text-align: right;\n",
       "    }\n",
       "</style>\n",
       "<table border=\"1\" class=\"dataframe\">\n",
       "  <thead>\n",
       "    <tr style=\"text-align: right;\">\n",
       "      <th></th>\n",
       "      <th>Latitude</th>\n",
       "      <th>Longitude</th>\n",
       "      <th>CH4_MR_500mb</th>\n",
       "      <th>CH4_MR_850mb</th>\n",
       "      <th>datetime</th>\n",
       "    </tr>\n",
       "  </thead>\n",
       "  <tbody>\n",
       "    <tr>\n",
       "      <th>0</th>\n",
       "      <td>39.693913</td>\n",
       "      <td>-120.49820</td>\n",
       "      <td>1842.4436</td>\n",
       "      <td>1892.8062</td>\n",
       "      <td>2018-11-01 10:39:44.183998108</td>\n",
       "    </tr>\n",
       "    <tr>\n",
       "      <th>1</th>\n",
       "      <td>39.996113</td>\n",
       "      <td>-121.75796</td>\n",
       "      <td>1861.1800</td>\n",
       "      <td>1891.7012</td>\n",
       "      <td>2018-11-01 10:39:44.383998871</td>\n",
       "    </tr>\n",
       "    <tr>\n",
       "      <th>2</th>\n",
       "      <td>39.248516</td>\n",
       "      <td>-120.72343</td>\n",
       "      <td>1861.7188</td>\n",
       "      <td>1894.3835</td>\n",
       "      <td>2018-11-01 10:39:52.183998108</td>\n",
       "    </tr>\n",
       "    <tr>\n",
       "      <th>3</th>\n",
       "      <td>39.547660</td>\n",
       "      <td>-121.97622</td>\n",
       "      <td>1847.3370</td>\n",
       "      <td>1889.8491</td>\n",
       "      <td>2018-11-01 10:39:52.383998871</td>\n",
       "    </tr>\n",
       "    <tr>\n",
       "      <th>4</th>\n",
       "      <td>38.802532</td>\n",
       "      <td>-120.94534</td>\n",
       "      <td>1890.4450</td>\n",
       "      <td>1899.3243</td>\n",
       "      <td>2018-11-01 10:40:00.184000015</td>\n",
       "    </tr>\n",
       "    <tr>\n",
       "      <th>5</th>\n",
       "      <td>38.913975</td>\n",
       "      <td>-121.84265</td>\n",
       "      <td>1919.1682</td>\n",
       "      <td>1897.5906</td>\n",
       "      <td>2018-11-01 20:21:36.183998108</td>\n",
       "    </tr>\n",
       "  </tbody>\n",
       "</table>\n",
       "</div>"
      ],
      "text/plain": [
       "    Latitude  Longitude  CH4_MR_500mb  CH4_MR_850mb  \\\n",
       "0  39.693913 -120.49820     1842.4436     1892.8062   \n",
       "1  39.996113 -121.75796     1861.1800     1891.7012   \n",
       "2  39.248516 -120.72343     1861.7188     1894.3835   \n",
       "3  39.547660 -121.97622     1847.3370     1889.8491   \n",
       "4  38.802532 -120.94534     1890.4450     1899.3243   \n",
       "5  38.913975 -121.84265     1919.1682     1897.5906   \n",
       "\n",
       "                       datetime  \n",
       "0 2018-11-01 10:39:44.183998108  \n",
       "1 2018-11-01 10:39:44.383998871  \n",
       "2 2018-11-01 10:39:52.183998108  \n",
       "3 2018-11-01 10:39:52.383998871  \n",
       "4 2018-11-01 10:40:00.184000015  \n",
       "5 2018-11-01 20:21:36.183998108  "
      ]
     },
     "execution_count": 19,
     "metadata": {},
     "output_type": "execute_result"
    }
   ],
   "source": [
    "# List the first few rows and certain columns\n",
    "gases.loc[0:5,['Latitude','Longitude', 'CH4_MR_500mb','CH4_MR_850mb','datetime']]"
   ]
  },
  {
   "cell_type": "markdown",
   "metadata": {
    "slideshow": {
     "slide_type": "slide"
    }
   },
   "source": [
    "<div class=\"alert alert-block alert-info\">\n",
    "    \n",
    "<b> Exercise 2: Import an ascii file </b>\n",
    "    \n",
    "   * From the data folder, import the dataset VIIRSNDE_global2018312.v1.0.txt\" which is a dataset containing the global location of fires for Nov 8, 2018.\n",
    "   * Use the pandas read_csv command. Assign it to a variable.\n",
    "   * HINT: You might need to check out the file path with respect to your notebook location.\n",
    "   * What are the column names?\n",
    "\n",
    "</div>    "
   ]
  },
  {
   "cell_type": "code",
   "execution_count": 72,
   "metadata": {},
   "outputs": [],
   "source": [
    "# SOLUTION\n",
    "fname = 'Data/VIIRSNDE_global2018312.v1.0.txt'\n",
    "fires = pd.read_csv(fname)"
   ]
  },
  {
   "cell_type": "markdown",
   "metadata": {},
   "source": [
    "## Basic Plotting with MatplotLib\n",
    "\n",
    "Common (simple) tasks in Earth science...\n",
    "\n",
    "* Histograms\n",
    "* Time series\n",
    "* Taking averages, computing the bias\n"
   ]
  },
  {
   "cell_type": "code",
   "execution_count": 17,
   "metadata": {},
   "outputs": [],
   "source": [
    "# Matplotlib\n",
    "from matplotlib import pyplot as plt\n",
    "from pandas.plotting import register_matplotlib_converters #Register Pandas Formatters and Converters with matplotlib\n",
    "\n",
    "# Options to print figures into notebook/increase size\n",
    "# Only necessary for jupyter notebooks\n",
    "%matplotlib inline\n",
    "plt.rcParams['figure.figsize'] = [12, 6]\n",
    "plt.rcParams.update({'font.size': 16})"
   ]
  },
  {
   "cell_type": "markdown",
   "metadata": {},
   "source": [
    "<b> Time series data </b>\n",
    "\n",
    "Need to tell python the date strings in the file are dates/times."
   ]
  },
  {
   "cell_type": "code",
   "execution_count": 35,
   "metadata": {},
   "outputs": [],
   "source": [
    "# Convert the string dates and times to date format (# Explicitly declare the format (for the full list, see http://strftime.org)\n",
    "fmt = '%Y-%m-%d %H:%M:%S'\n",
    "gases['datetime'] = pd.to_datetime(gases['datetime'], format=fmt)"
   ]
  },
  {
   "cell_type": "markdown",
   "metadata": {},
   "source": [
    "<b> Plotting a single variable </b>\n",
    "\n",
    "Add the data using plt.plot('X Column Name', 'Y Column Name')"
   ]
  },
  {
   "cell_type": "code",
   "execution_count": 27,
   "metadata": {},
   "outputs": [
    {
     "data": {
      "image/png": "[encoded data removed]",
      "text/plain": [
       "<Figure size 432x288 with 1 Axes>"
      ]
     },
     "metadata": {
      "needs_background": "light"
     },
     "output_type": "display_data"
    }
   ],
   "source": [
    "\n",
    "plt.plot(gases['datetime'], gases['CH4_MR_850mb'])\n",
    "plt.title('All observations within 300km')\n",
    "plt.xticks(rotation=35)\n",
    "plt.show()"
   ]
  },
  {
   "cell_type": "markdown",
   "metadata": {},
   "source": [
    "<div class=\"alert alert-block alert-info\">\n",
    "    \n",
    "<b> Exercise 3: Creating a scatter plot </b>\n",
    "    \n",
    "  * Import time series data from VIIRSNDE_global2018312.v1.0.txt from Exercise 2. \n",
    "  * Use the ???.scatter(???, ???) to create a plot mapping the latitude/longitude location of fires.\n",
    "\n",
    "</div>"
   ]
  },
  {
   "cell_type": "code",
   "execution_count": 33,
   "metadata": {},
   "outputs": [
    {
     "data": {
      "image/png": "[encoded data removed]",
      "text/plain": [
       "<Figure size 432x288 with 1 Axes>"
      ]
     },
     "metadata": {
      "needs_background": "light"
     },
     "output_type": "display_data"
    }
   ],
   "source": [
    "# Solution\n",
    "#list(fires)\n",
    "plt.scatter(fires['Lon'],fires['Lat'])\n",
    "# OR\n",
    "#plt.scatter(fires.Lon,fires.Lat)\n",
    "plt.show()"
   ]
  },
  {
   "cell_type": "markdown",
   "metadata": {},
   "source": [
    "<b> Computing basic statistics </b>\n",
    "\n",
    "There are multiple observations per day in the gases plot - might be useful to only look at daily avergae.\n",
    "\n",
    "* In pandas, the 'groupby' command passes the column name to perform an operation on.\n",
    "* Chain another command telling it what operation to person (e.g. mean, standard deviation, or your own defined function)\n"
   ]
  },
  {
   "cell_type": "code",
   "execution_count": 36,
   "metadata": {},
   "outputs": [],
   "source": [
    "\n",
    "dailyAvg = gases.groupby(gases.datetime.dt.day).mean()"
   ]
  },
  {
   "cell_type": "code",
   "execution_count": 38,
   "metadata": {},
   "outputs": [
    {
     "data": {
      "image/png": "[encoded data removed]",
      "text/plain": [
       "<Figure size 432x288 with 1 Axes>"
      ]
     },
     "metadata": {
      "needs_background": "light"
     },
     "output_type": "display_data"
    }
   ],
   "source": [
    "plt.plot(dailyAvg.index, dailyAvg['H2O_MR_850mb'])\n",
    "#plt.scatter(dailyAvg.index, dailyAvg.H2O_MR_850mb)\n",
    "\n",
    "plt.xlabel(\"November, 2018\")\n",
    "plt.ylabel(\"H2O Mixing Ratio @ 850mb\")\n",
    "\n",
    "plt.show()"
   ]
  },
  {
   "cell_type": "markdown",
   "metadata": {},
   "source": [
    "<b> Adding data to an existing plot </b>\n",
    "* Call plt.plot() and fill in the x and y variables for EACH line/data series on the plot\n",
    "* Annotate and add in any aesthetics, such as rotating the axes, labels, and adding a legend\n",
    "* Show the plot using plt.show()"
   ]
  },
  {
   "cell_type": "code",
   "execution_count": 41,
   "metadata": {},
   "outputs": [
    {
     "data": {
      "image/png": "[encoded data removed]",
      "text/plain": [
       "<Figure size 432x288 with 1 Axes>"
      ]
     },
     "metadata": {
      "needs_background": "light"
     },
     "output_type": "display_data"
    }
   ],
   "source": [
    "plt.plot(dailyAvg.index, dailyAvg['H2O_MR_500mb'])#, label=\"H20 500 mb\")\n",
    "plt.plot(dailyAvg.index, dailyAvg['H2O_MR_850mb'])#,label=\"H20 850 mb\")\n",
    "\n",
    "plt.xlabel(\"November, 2018\")\n",
    "plt.ylabel(\"H2O Mixing Ratio\")\n",
    "\n",
    "plt.legend() # Shows the legend\n",
    "plt.show()"
   ]
  },
  {
   "cell_type": "markdown",
   "metadata": {},
   "source": [
    "<b> Plotting ladder plots </b>\n",
    "\n",
    "* Before writing your plt.plot code, add: plt.subplot( row number , column number , position of the plot )\n",
    "\n",
    "* Call plt.plot() and fill in the x and y variables for the first line/data series on the plot\n",
    "\n",
    "* Call plt.subplot again, increment the position of plot number\n",
    "* Add in any aesthetics, such as rotating the axes, labels, and adding a legend\n",
    "* Show the plot using plt.show()\n",
    "\n",
    "In this example:\n",
    "* plt.subplot(2,2,1) places the plot in the first position of a two row, two column stack of plots.\n",
    "* plt.subplot(1,2,2) places the plot in the second position of a two column, one row of plots next to each other.\n",
    "\n",
    "For more details, refer https://matplotlib.org/3.1.1/api/_as_gen/matplotlib.pyplot.subplot.html"
   ]
  },
  {
   "cell_type": "code",
   "execution_count": 55,
   "metadata": {},
   "outputs": [
    {
     "data": {
      "image/png": "[encoded data removed]",
      "text/plain": [
       "<Figure size 432x288 with 2 Axes>"
      ]
     },
     "metadata": {
      "needs_background": "light"
     },
     "output_type": "display_data"
    }
   ],
   "source": [
    "plt.subplot(2,2,1)\n",
    "plt.plot(dailyAvg.index, dailyAvg.O3_MR_850mb)\n",
    "plt.title('Ozone')\n",
    "plt.xlim(1, 30)\n",
    "#plt.legend()\n",
    "\n",
    "plt.subplot(2,1,2)\n",
    "plt.plot(dailyAvg.index, dailyAvg.CO_MR_850mb)\n",
    "plt.title('CO')\n",
    "\n",
    "plt.tight_layout() \n",
    "# automatically adjusts subplot params so that the subplot(s) fits\n",
    "# in to the figure area.\n",
    "plt.show()\n"
   ]
  },
  {
   "cell_type": "markdown",
   "metadata": {},
   "source": [
    "<b> Plotting ladder plots by creating axis </b>\n",
    "\n",
    "* Create different axis for different subplots using  plt.subplot( row number , column number , position of the plot )\n",
    "\n",
    "* Call ax.plot() and fill in the x and y variables for the first line/data series on the plot\n",
    "\n",
    "<b> Saving the plot</b>\n",
    "\n",
    "* Use plt.savefig(fname, dpi=None) to save the figure at desired resolution.\n",
    "* Make sure to save figure before plt.show()\n",
    "\n",
    "In this example:\n",
    "* We define a function that creates line plots and titles them for a given axis.\n",
    "* We create different axis for the subplots and call the function.\n",
    "* Save the figure in the folder Figures at 300 dpi and png format."
   ]
  },
  {
   "cell_type": "code",
   "execution_count": 71,
   "metadata": {},
   "outputs": [
    {
     "data": {
      "image/png": "[encoded data removed]",
      "text/plain": [
       "<Figure size 432x288 with 3 Axes>"
      ]
     },
     "metadata": {
      "needs_background": "light"
     },
     "output_type": "display_data"
    }
   ],
   "source": [
    "# Using a function to plot line plots subplots\n",
    "def line_subplots(ax,X_column,Y_column, title):\n",
    "    ax.plot(X_column, Y_column)\n",
    "    ax.set_title(title, fontsize=8) # Specified the fontsize\n",
    "    ax.set_xlabel(\"November, 2018\")\n",
    "    ax.set_ylabel(\"Mixing ration\")\n",
    "# Function ends\n",
    "\n",
    "fig = plt.figure()\n",
    "\n",
    "fig.suptitle(\" Using ax to plot subplots\")\n",
    "\n",
    "# Creating axis\n",
    "ax1 = plt.subplot(2, 2, 1)\n",
    "ax2 = plt.subplot(2, 2, 2)\n",
    "ax3 = plt.subplot(2, 1, 2)\n",
    "\n",
    "\n",
    "# Plotting subplots\n",
    "line_subplots(ax1, dailyAvg.index, dailyAvg.O3_MR_850mb, 'Ozone')\n",
    "\n",
    "line_subplots(ax2, dailyAvg.index, dailyAvg.H2O_MR_850mb, 'H2O') \n",
    "\n",
    "# PLotting third subplot\n",
    "line_subplots(ax3, dailyAvg.index, dailyAvg.CO_MR_850mb, 'CO') \n",
    "\n",
    "plt.tight_layout()\n",
    "\n",
    "# automatically adjusts subplot params so that the subplot(s) fits\n",
    "# in to the figure area.\n",
    "plt.savefig(\"Figures/mysubplot.png\",dpi=300)\n",
    "plt.show()"
   ]
  },
  {
   "cell_type": "markdown",
   "metadata": {},
   "source": [
    "## Reading netcdf data and self-describing datasets\n",
    "\n",
    "* Use netCDF4 package to read netcdf files\n",
    "* The netCDF4 package is included in Anaconda Python. \n",
    "* The main function is Dataset, which reads from an existing file:\n",
    "\n",
    "        file_id = Dataset(\"test.nc\", \"r\", format=\"NETCDF4\")\n",
    "\n",
    "* You can choose to 'w' (write), 'r' (read), or 'a'\n",
    "* The foramts can be: NETCDF3_CLASSIC, NETCDF3_64BIT_OFFSET, NETCDF3_64BIT_DATA, NETCDF4_CLASSIC, and NETCDF4 (default)\n",
    "\n",
    "\n",
    "In this example, using MERRA2 Aerosol Optical Depth Analysis Data for, Nov 09, 2018, we learn how to\n",
    "* Inspect the contents, dimenions variables and the metadata.\n",
    "* Read the variables into arrays."
   ]
  },
  {
   "cell_type": "code",
   "execution_count": null,
   "metadata": {},
   "outputs": [],
   "source": [
    "# Import netCDF4. the syntax is case sensitive\n",
    "from netCDF4 import Dataset"
   ]
  },
  {
   "cell_type": "code",
   "execution_count": 94,
   "metadata": {},
   "outputs": [],
   "source": [
    "# To open the files, call the Dataset constructor\n",
    "fname='Data/Mod_MERRA2_400.inst3_2d_gas_Nx.20181109.nc4.nc' \n",
    "file_id = Dataset(fname,'r') # 'r' stands for read mode\n",
    "\n"
   ]
  },
  {
   "cell_type": "code",
   "execution_count": 95,
   "metadata": {},
   "outputs": [
    {
     "data": {
      "text/plain": [
       "['AODANA', 'lat', 'lon', 'time']"
      ]
     },
     "execution_count": 95,
     "metadata": {},
     "output_type": "execute_result"
    }
   ],
   "source": [
    "# Quickly inspect the contents\n",
    "list(file_id.variables.keys())"
   ]
  },
  {
   "cell_type": "code",
   "execution_count": 96,
   "metadata": {},
   "outputs": [
    {
     "name": "stdout",
     "output_type": "stream",
     "text": [
      "odict_keys(['time', 'lat', 'lon'])\n",
      "('time', <class 'netCDF4._netCDF4.Dimension'>: name = 'time', size = 8\n",
      ")\n",
      "('lat', <class 'netCDF4._netCDF4.Dimension'>: name = 'lat', size = 361\n",
      ")\n",
      "('lon', <class 'netCDF4._netCDF4.Dimension'>: name = 'lon', size = 576\n",
      ")\n"
     ]
    }
   ],
   "source": [
    "# Inspect the dimesnions\n",
    "print (file_id.dimensions.keys())\n",
    "\n",
    "for d in file_id.dimensions.items():\n",
    "    print(d)"
   ]
  },
  {
   "cell_type": "code",
   "execution_count": 97,
   "metadata": {},
   "outputs": [
    {
     "data": {
      "text/plain": [
       "['long_name',\n",
       " 'units',\n",
       " '_FillValue',\n",
       " 'missing_value',\n",
       " 'fmissing_value',\n",
       " 'scale_factor',\n",
       " 'add_offset',\n",
       " 'standard_name',\n",
       " 'vmax',\n",
       " 'vmin',\n",
       " 'valid_range',\n",
       " 'origname',\n",
       " 'fullnamepath']"
      ]
     },
     "execution_count": 97,
     "metadata": {},
     "output_type": "execute_result"
    }
   ],
   "source": [
    "# Inspect attributes using .ncattrs command\n",
    "list(file_id.variables['AODANA'].ncattrs())\n"
   ]
  },
  {
   "cell_type": "code",
   "execution_count": 98,
   "metadata": {},
   "outputs": [
    {
     "name": "stdout",
     "output_type": "stream",
     "text": [
      "<class 'netCDF4._netCDF4.Variable'>\n"
     ]
    }
   ],
   "source": [
    "# Copy the AOD variable into an array object using .variables\n",
    "# The data can be imported as a netcdf variable:\n",
    "AOD = file_id.variables['AODANA']\n",
    "print(type(AOD))\n"
   ]
  },
  {
   "cell_type": "code",
   "execution_count": 99,
   "metadata": {},
   "outputs": [
    {
     "name": "stdout",
     "output_type": "stream",
     "text": [
      "<class 'netCDF4._netCDF4.Variable'>\n",
      "float32 AODANA(time, lat, lon)\n",
      "    long_name: Aerosol Optical Depth Analysis\n",
      "    units: 1\n",
      "    _FillValue: 1000000000000000.0\n",
      "    missing_value: 1000000000000000.0\n",
      "    fmissing_value: 1000000000000000.0\n",
      "    scale_factor: 1.0\n",
      "    add_offset: 0.0\n",
      "    standard_name: Aerosol Optical Depth Analysis\n",
      "    vmax: 1000000000000000.0\n",
      "    vmin: -1000000000000000.0\n",
      "    valid_range: [-1.e+15  1.e+15]\n",
      "    origname: AODANA\n",
      "    fullnamepath: /AODANA\n",
      "unlimited dimensions: \n",
      "current shape = (8, 361, 576)\n",
      "filling on\n"
     ]
    }
   ],
   "source": [
    "# Print the details of this variable\n",
    "print(AOD)"
   ]
  },
  {
   "cell_type": "code",
   "execution_count": 100,
   "metadata": {},
   "outputs": [
    {
     "name": "stdout",
     "output_type": "stream",
     "text": [
      "<class 'netCDF4._netCDF4.Variable'>\n",
      "float64 lat(lat)\n",
      "    CLASS: DIMENSION_SCALE\n",
      "    NAME: lat\n",
      "    long_name: latitude\n",
      "    units: degrees_north\n",
      "    vmax: 1000000000000000.0\n",
      "    vmin: -1000000000000000.0\n",
      "    valid_range: [-1.e+15  1.e+15]\n",
      "    origname: lat\n",
      "    fullnamepath: /lat\n",
      "unlimited dimensions: \n",
      "current shape = (361,)\n",
      "filling on, default _FillValue of 9.969209968386869e+36 used\n",
      "\n",
      "<class 'netCDF4._netCDF4.Variable'>\n",
      "float64 lon(lon)\n",
      "    CLASS: DIMENSION_SCALE\n",
      "    NAME: lon\n",
      "    long_name: longitude\n",
      "    units: degrees_east\n",
      "    vmax: 1000000000000000.0\n",
      "    vmin: -1000000000000000.0\n",
      "    valid_range: [-1.e+15  1.e+15]\n",
      "    origname: lon\n",
      "    fullnamepath: /lon\n",
      "unlimited dimensions: \n",
      "current shape = (576,)\n",
      "filling on, default _FillValue of 9.969209968386869e+36 used\n",
      "\n",
      "<class 'netCDF4._netCDF4.Variable'>\n",
      "int32 time(time)\n",
      "    CLASS: DIMENSION_SCALE\n",
      "    NAME: time\n",
      "    long_name: time\n",
      "    units: minutes since 2018-11-09 00:00:00\n",
      "    time_increment: 30000\n",
      "    begin_date: 20181109\n",
      "    begin_time: 0\n",
      "    vmax: 1000000000000000.0\n",
      "    vmin: -1000000000000000.0\n",
      "    valid_range: [-1.e+15  1.e+15]\n",
      "    origname: time\n",
      "    fullnamepath: /time\n",
      "unlimited dimensions: \n",
      "current shape = (8,)\n",
      "filling on, default _FillValue of -2147483647 used\n",
      "\n"
     ]
    }
   ],
   "source": [
    "# Inspect the dimensions using .variables\n",
    "print (file_id.variables['lat'])\n",
    "print (file_id.variables['lon'])\n",
    "print (file_id.variables['time'])\n"
   ]
  },
  {
   "cell_type": "code",
   "execution_count": 101,
   "metadata": {},
   "outputs": [
    {
     "name": "stdout",
     "output_type": "stream",
     "text": [
      "601146500.0 775335900000.0 1663488\n"
     ]
    }
   ],
   "source": [
    "# Get some very simple statistics by converting into a NumPy array\n",
    "import numpy as np\n",
    "\n",
    "AOD_arr = np.array(AOD)\n",
    "\n",
    "# As this data doesn't have any missing values\n",
    "# Let's explicitly set an array element to missing value\n",
    "\n",
    "AOD_arr [0,0,0] = AOD._FillValue\n",
    "\n",
    "avgAOD = AOD_arr.mean()\n",
    "stdDev = AOD_arr.std()\n",
    "nAOD = AOD_arr.size\n",
    "print(avgAOD, stdDev, nAOD)"
   ]
  },
  {
   "cell_type": "code",
   "execution_count": 102,
   "metadata": {},
   "outputs": [
    {
     "name": "stdout",
     "output_type": "stream",
     "text": [
      "(1663487,)\n",
      "0.102362625 0.08364344 1663487\n"
     ]
    }
   ],
   "source": [
    "# Remove missing values\n",
    "missing = AOD._FillValue\n",
    "keepRows = AOD_arr != missing\n",
    "AOD_arr = AOD_arr[keepRows]\n",
    "print (np.shape(AOD_arr))\n",
    "\n",
    "avgAOD = AOD_arr.mean()\n",
    "stdDev = AOD_arr.std()\n",
    "nAOD = AOD_arr.size\n",
    "print(avgAOD, stdDev, nAOD)"
   ]
  },
  {
   "cell_type": "code",
   "execution_count": 103,
   "metadata": {},
   "outputs": [
    {
     "name": "stdout",
     "output_type": "stream",
     "text": [
      "<class 'numpy.ma.core.MaskedArray'>\n"
     ]
    }
   ],
   "source": [
    "\n",
    "# Note: importing using [:,:] turns the variable a numpy masked array\n",
    "# Using masked arrays, missing values are automatically filtered\n",
    "AOD = file_id.variables['AODANA'][:,:]\n",
    "print(type(AOD))"
   ]
  },
  {
   "cell_type": "code",
   "execution_count": 104,
   "metadata": {},
   "outputs": [
    {
     "name": "stdout",
     "output_type": "stream",
     "text": [
      "0.10236256 0.083643414 1663488\n"
     ]
    }
   ],
   "source": [
    "# Using masked arrays, missing values are automatically filtered...\n",
    "avgAOD = AOD.mean()\n",
    "stdDev = AOD.std()\n",
    "nAOD = AOD.size\n",
    "\n",
    "print(avgAOD, stdDev, nAOD)"
   ]
  },
  {
   "cell_type": "code",
   "execution_count": 105,
   "metadata": {},
   "outputs": [],
   "source": [
    "\n",
    "# Close the file when you're done\n",
    "file_id.close()"
   ]
  },
  {
   "cell_type": "markdown",
   "metadata": {},
   "source": [
    "## Resources\n",
    "\n",
    "### Packages and Tutorials\n",
    "\n",
    "<b> Pandas </b>\n",
    "* Short Introduction: https://pandas.pydata.org/pandas-docs/stable/getting_started/10min.html\n",
    "* Cookbook for more details: https://pandas.pydata.org/pandas-docs/stable/user_guide/cookbook.html#cookbook\n",
    "\n",
    "---\n",
    "<b> Matplotlib </b>\n",
    "* Pyplot Tutorial: https://matplotlib.org/3.1.1/tutorials/introductory/pyplot.html\n",
    "\n",
    "---\n",
    "<b> Reading self describing file </b>\n",
    "* <b> NETCDF </b>\n",
    "    * Detailed tutorial https://unidata.github.io/netcdf4-python/netCDF4/index.html.\n",
    "* <b> HDF files </b>\n",
    "    * The package [h5py](https://www.h5py.org/) is similar to netcdf4.\n",
    "    * User manual at http://docs.h5py.org/en/stable/.\n",
    "* <b> GRIB/GRIB2 files </b>\n",
    "    * World Meteorology Association standard format, e.g. commonly used with weather-related models like ECMWF and GFS.\n",
    "    * Can be opened using [pygrib](https://github.com/jswhit/pygrib).\n",
    "    * Example usage at https://jswhit.github.io/pygrib/docs/.\n",
    "* <b> BUFR </b>\n",
    "    * Another common model format.\n",
    "    * Open with [python-bufr](https://github.com/pytroll/python-bufr), part of the pytroll project.\n",
    "---    \n",
    "    \n",
    "### General Python resources    \n",
    "<b> Free online Tutorials</b>\n",
    "   * Youtube series for absolute beginners [CS Dojo](https://www.youtube.com/watch?v=Z1Yd7upQsXY&list=PLBZBJbE_rGRWeh5mIBhD-hhDwSEDxogDg)\n",
    "   * Enhance your workflow [Automate Boring Stuff](https://automatetheboringstuff.com/)"
   ]
  },
  {
   "cell_type": "code",
   "execution_count": null,
   "metadata": {},
   "outputs": [],
   "source": []
  }
 ],
 "metadata": {
  "celltoolbar": "Slideshow",
  "kernelspec": {
   "display_name": "Python 3",
   "language": "python",
   "name": "python3"
  },
  "language_info": {
   "codemirror_mode": {
    "name": "ipython",
    "version": 3
   },
   "file_extension": ".py",
   "mimetype": "text/x-python",
   "name": "python",
   "nbconvert_exporter": "python",
   "pygments_lexer": "ipython3",
   "version": "3.7.3"
  }
 },
 "nbformat": 4,
 "nbformat_minor": 2
}
